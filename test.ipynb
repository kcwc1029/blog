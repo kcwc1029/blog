{
 "cells": [
  {
   "cell_type": "code",
   "execution_count": 8,
   "metadata": {},
   "outputs": [
    {
     "name": "stdout",
     "output_type": "stream",
     "text": [
      "[1, 6, 3, 4, 5, 2]\n"
     ]
    }
   ],
   "source": [
    "def reverse_odd_indices(x):\n",
    "    舊 = x[1::2]\n",
    "    舊.reverse()\n",
    "    result = x[:]\n",
    "    result[1::2] = 舊\n",
    "    return result\n",
    "def get_valid_input():\n",
    "    while True:\n",
    "        try:\n",
    "            輸入 = input(\"\")\n",
    "            return list(map(int, 輸入.split()))\n",
    "        except ValueError:\n",
    "            print(\"錯誤，要數字\")\n",
    "x = get_valid_input()\n",
    "結果 = reverse_odd_indices(x)\n",
    "print(結果)"
   ]
  },
  {
   "cell_type": "code",
   "execution_count": null,
   "metadata": {},
   "outputs": [],
   "source": []
  },
  {
   "cell_type": "code",
   "execution_count": 7,
   "metadata": {},
   "outputs": [
    {
     "data": {
      "text/plain": [
       "[1, 3, 5, 6, 8, 9, 4]"
      ]
     },
     "execution_count": 7,
     "metadata": {},
     "output_type": "execute_result"
    }
   ],
   "source": [
    "x = [1,9,5,6,8,3,4]\n",
    "odd = x[1::2]\n",
    "odd.reverse()\n",
    "result = x[:]\n",
    "# odd\n",
    "result[1::2] =  odd\n",
    "\n",
    "result"
   ]
  }
 ],
 "metadata": {
  "kernelspec": {
   "display_name": "base",
   "language": "python",
   "name": "python3"
  },
  "language_info": {
   "codemirror_mode": {
    "name": "ipython",
    "version": 3
   },
   "file_extension": ".py",
   "mimetype": "text/x-python",
   "name": "python",
   "nbconvert_exporter": "python",
   "pygments_lexer": "ipython3",
   "version": "3.12.4"
  }
 },
 "nbformat": 4,
 "nbformat_minor": 2
}
