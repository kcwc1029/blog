{
 "cells": [
  {
   "cell_type": "code",
   "execution_count": null,
   "metadata": {},
   "outputs": [],
   "source": [
    "# 初始化堆疊\n",
    "stack = []\n",
    "\n",
    "# 壓入元素\n",
    "stack.append(10)\n",
    "stack.append(20)\n",
    "stack.append(30)\n",
    "print(\"Stack after pushing:\", stack)\n",
    "\n",
    "# 彈出元素\n",
    "top_element = stack.pop()\n",
    "print(\"Popped element:\", top_element)\n",
    "print(\"Stack after popping:\", stack)\n",
    "\n",
    "# 檢查頂部元素\n",
    "if stack:\n",
    "    top_element = stack[-1]\n",
    "    print(\"Top element:\", top_element)\n",
    "\n",
    "# 檢查堆疊是否為空\n",
    "if not stack:\n",
    "    print(\"Stack is empty\")\n",
    "else:\n",
    "    print(\"Stack is not empty\") "
   ]
  },
  {
   "cell_type": "code",
   "execution_count": 1,
   "metadata": {},
   "outputs": [
    {
     "name": "stdout",
     "output_type": "stream",
     "text": [
      "0\n",
      "1\n",
      "2\n",
      "3\n",
      "4\n",
      "4\n"
     ]
    }
   ],
   "source": [
    "for i in range(5):\n",
    "    # print(\"AAA\")\n",
    "    print(i)\n",
    "\n",
    "print(i)"
   ]
  },
  {
   "cell_type": "code",
   "execution_count": 6,
   "metadata": {},
   "outputs": [
    {
     "name": "stdout",
     "output_type": "stream",
     "text": [
      "结果是5.0\n"
     ]
    }
   ],
   "source": [
    "dividend = int(input())\n",
    "divisor = int(input())\n",
    "try:\n",
    "    result = dividend / divisor\n",
    "    print(f\"结果是{result}\")\n",
    "except ZeroDivisionError:\n",
    "    print(\"除數不可為0\")"
   ]
  }
 ],
 "metadata": {
  "kernelspec": {
   "display_name": "base",
   "language": "python",
   "name": "python3"
  },
  "language_info": {
   "codemirror_mode": {
    "name": "ipython",
    "version": 3
   },
   "file_extension": ".py",
   "mimetype": "text/x-python",
   "name": "python",
   "nbconvert_exporter": "python",
   "pygments_lexer": "ipython3",
   "version": "3.12.4"
  }
 },
 "nbformat": 4,
 "nbformat_minor": 2
}
