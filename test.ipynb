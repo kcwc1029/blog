{
 "cells": [
  {
   "cell_type": "code",
   "execution_count": null,
   "metadata": {},
   "outputs": [],
   "source": [
    "s = input() # 二進為\n",
    "m = int(input())\n",
    "\n",
    "m_bin = bin(m)[2:] # m 由十進位轉二進為\n",
    "\n",
    "# 所以現在，s跟m都是二進為\n",
    "\n",
    "# 那就像我跟你說的，無論它轉成甚麼蝦基吧型態，數字就是數字\n",
    "# 我自己的寫法是，把兩個數字都轉成十進位做XOR(你就把它當作是加減乘除)\n",
    "# 阿做完後，因為題目要返回二進為，你再把結果轉回題目要的二進為\n",
    "\n",
    "\n",
    "\n",
    "\n"
   ]
  }
 ],
 "metadata": {
  "language_info": {
   "name": "python"
  }
 },
 "nbformat": 4,
 "nbformat_minor": 2
}
