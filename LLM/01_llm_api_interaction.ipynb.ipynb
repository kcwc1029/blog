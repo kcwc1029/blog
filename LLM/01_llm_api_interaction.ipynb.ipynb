{
 "cells": [
  {
   "cell_type": "markdown",
   "metadata": {},
   "source": [
    "用 Python 發送 HTTP 請求，與llama3.2 的生成式 AI 模型進行交互"
   ]
  },
  {
   "cell_type": "code",
   "execution_count": 4,
   "metadata": {},
   "outputs": [],
   "source": [
    "# Constants\n",
    "\n",
    "OLLAMA_API = \"http://localhost:11434/api/chat\"\n",
    "HEADERS = {\"Content-Type\": \"application/json\"}\n",
    "MODEL = \"llama3.2\""
   ]
  },
  {
   "cell_type": "code",
   "execution_count": null,
   "metadata": {},
   "outputs": [],
   "source": [
    "# Create a messages list using the same format that we used for OpenAI\n",
    "\n",
    "messages = [\n",
    "    {\"role\": \"user\",\n",
    "      \"content\": \"描述一些生成式人工智慧的社會科學應用\"}\n",
    "]"
   ]
  },
  {
   "cell_type": "code",
   "execution_count": 5,
   "metadata": {},
   "outputs": [],
   "source": [
    "# 準備發送給 API 的數據包。\n",
    "payload = {\n",
    "    \"model\": MODEL,\n",
    "    \"messages\": messages,\n",
    "    \"stream\": False # 是否啟用流式傳輸回應，False 表示一次性返回完整結果。\n",
    "}"
   ]
  },
  {
   "cell_type": "code",
   "execution_count": 7,
   "metadata": {},
   "outputs": [
    {
     "name": "stdout",
     "output_type": "stream",
     "text": [
      "生成式人工智慧（Generative AI）具有廣泛的社會科學應用。以下是其中的一些例子：\n",
      "\n",
      "1. **数据生成和分析**：生成式人工智慧可以生成大型數據セット，例如文本、影像或音频，用于研究和分析特定社會問題，例如人口動態、城市發展或文化趨勢。\n",
      "2. **社会媒体内容生成**：AI 可以生成社交 media content，例如圖片、 Videos 或文章，以滿足對於其產生内容的需求，例如推文、社論或社區論壇。\n",
      "3. **个性化推广和销售**：生成式人工智慧可以生成個性化的推广內容和销售策略，以符合特定 khách戶的偏好和需求。\n",
      "4. **数据预测和forecasting**：AI 可以使用生成式人工智慧方法來預測和 forecast 社會數據，例如人口生長率、犯罪率或经济展望。\n",
      "5. **文化創作和教育**：生成式人工智慧可以生成新的文化創作，例如音乐、視覺藝術或Literature，以加強教育和文化產業。\n",
      "6. **社会影响评估**：AI 可以使用生成式人工智慧方法來評估社會影響，例如对環境變化的预测或對于特定政策措施的效益分析。\n",
      "7. **公共卫生和健康預防**：生成式人工智慧可以生成個人化的健康預防策略，以根除疾病和預防健康問題。\n",
      "8. **人類-機器接觸和協作**：AI 可以使用生成式人工智慧方法來設計人類-機器接觸和協作システム，例如醫療保健或教育。\n",
      "9. **环境监测和应对**：AI 可以使用生成式人工智慧方法來監測和预测环境變化，以加強環境治理和應對危害。\n",
      "10. **社会创新和創业**：生成式人工智慧可以生成新的社会创新和創業idea，例如新商业模式、产品或服务。\n",
      "\n",
      "然而，还需要注意，生成式人工智慧的应用也可能带来一些挑战和风险，例如：\n",
      "\n",
      "* 数据偏倚和不平衡\n",
      "* 个人隱私問題\n",
      "* 技術無力和失控\n",
      "* 社會變化和就業創傷\n",
      "\n",
      "因此，生成式人工智慧的应用需要谨慎評估其潜在利益和風險，并确保这些应用符合社会规范和道德原则。\n"
     ]
    }
   ],
   "source": [
    "# 發送 API 請求\n",
    "import requests\n",
    "\n",
    "response = requests.post(OLLAMA_API, json=payload, headers=HEADERS)\n",
    "print(response.json()['message']['content'])"
   ]
  },
  {
   "cell_type": "markdown",
   "metadata": {},
   "source": [
    "## 使用olloma package"
   ]
  },
  {
   "cell_type": "code",
   "execution_count": 9,
   "metadata": {},
   "outputs": [
    {
     "name": "stdout",
     "output_type": "stream",
     "text": [
      "人工智能（AI）和社会科学的交叉是形成一种新的研究领域——社会人工智能。这种跨学科方法结合了社会科学理论和人工智能技术来探索和解决现实世界中的复杂问题。\n",
      "\n",
      "社会人工智能的应用包括：\n",
      "\n",
      "1.  **社会网络分析**：使用人工智能算法分析和预测个人、群体或组织之间的关系，了解社区结构和动态。\n",
      "2.  **情绪分析**：开发 AI模型来识别和理解人类的情绪状态，从而为心理健康服务、人机交互改进等提供基础。\n",
      "3.  **信息传播研究**：探索如何使用人工智能技术来理解、预测和应对 misinformation（虚假信息）的影响。\n",
      "4.  **社会变革预测**：应用人工智能算法来分析历史数据，预测和理解人类社会的潜在变化趋势。\n",
      "5.  **公众政策评估**：使用人工智能来分析、评估和优化政策决策的有效性和影响力。\n"
     ]
    }
   ],
   "source": [
    "import ollama\n",
    "\n",
    "MODEL = \"llama3.2\"\n",
    "messages = [\n",
    "    {\"role\": \"user\",\n",
    "      \"content\": \"描述一些生成式人工智慧的社會科學應用\"}\n",
    "]\n",
    "response = ollama.chat(model=MODEL, messages=messages)\n",
    "\n",
    "print(response['message']['content'])"
   ]
  }
 ],
 "metadata": {
  "kernelspec": {
   "display_name": "openai",
   "language": "python",
   "name": "python3"
  },
  "language_info": {
   "codemirror_mode": {
    "name": "ipython",
    "version": 3
   },
   "file_extension": ".py",
   "mimetype": "text/x-python",
   "name": "python",
   "nbconvert_exporter": "python",
   "pygments_lexer": "ipython3",
   "version": "3.10.15"
  }
 },
 "nbformat": 4,
 "nbformat_minor": 2
}
