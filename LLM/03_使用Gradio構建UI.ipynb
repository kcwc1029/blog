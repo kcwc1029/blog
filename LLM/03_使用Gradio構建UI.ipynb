{
 "cells": [
  {
   "cell_type": "markdown",
   "metadata": {},
   "source": [
    "- gradio官網：https://www.gradio.app/\n",
    "- `pip install --upgrade gradio`"
   ]
  },
  {
   "cell_type": "code",
   "execution_count": 4,
   "metadata": {},
   "outputs": [
    {
     "name": "stderr",
     "output_type": "stream",
     "text": [
      "c:\\Users\\33313\\.conda\\envs\\openai\\lib\\site-packages\\tqdm\\auto.py:21: TqdmWarning: IProgress not found. Please update jupyter and ipywidgets. See https://ipywidgets.readthedocs.io/en/stable/user_install.html\n",
      "  from .autonotebook import tqdm as notebook_tqdm\n"
     ]
    }
   ],
   "source": [
    "import os\n",
    "from dotenv import load_dotenv\n",
    "from openai import OpenAI\n",
    "import gradio as gr "
   ]
  },
  {
   "cell_type": "markdown",
   "metadata": {},
   "source": [
    "## 單純使用程式碼調用gpt"
   ]
  },
  {
   "cell_type": "code",
   "execution_count": 7,
   "metadata": {},
   "outputs": [
    {
     "data": {
      "text/plain": [
       "'今天是星期幾取決於你查詢的具體日期。你可以告訴我今天的日期，我可以幫你確認是星期幾。或者你也可以查看手機或電腦上的日曆。'"
      ]
     },
     "execution_count": 7,
     "metadata": {},
     "output_type": "execute_result"
    }
   ],
   "source": [
    "# TODO: 載入環境便數\n",
    "load_dotenv()\n",
    "openai_api_key = os.getenv('OPENAI_API_KEY')\n",
    "openai = OpenAI()\n",
    "\n",
    "system_message = \"你是一個很好的助手\"\n",
    "\n",
    "# NOTE: 調用\n",
    "def message_gpt(prompt):\n",
    "    \"\"\"\n",
    "    此函式將使用者的輸入傳遞給 GPT-4o-mini 模型並獲取回應。\n",
    "\n",
    "    參數:\n",
    "    - prompt (str): 使用者的輸入或問題。\n",
    "\n",
    "    返回值:\n",
    "    - str: GPT-4o-mini 模型針對輸入的回應。\n",
    "    \"\"\"\n",
    "    messages = [\n",
    "        {\"role\": \"system\", \"content\": system_message},  # 定義助理的角色或行為\n",
    "        {\"role\": \"user\", \"content\": prompt}  # 使用者的輸入\n",
    "      ]\n",
    "    completion = openai.chat.completions.create(\n",
    "        model='gpt-4o-mini',  # 指定 GPT-4o-mini 模型\n",
    "        messages=messages,  # 傳遞對話記錄給模型\n",
    "    )\n",
    "    return completion.choices[0].message.content  # 提取並返回助理的回應\n",
    "\n",
    "message_gpt(\"今天星期幾\")\n",
    "\n"
   ]
  }
 ],
 "metadata": {
  "kernelspec": {
   "display_name": "openai",
   "language": "python",
   "name": "python3"
  },
  "language_info": {
   "codemirror_mode": {
    "name": "ipython",
    "version": 3
   },
   "file_extension": ".py",
   "mimetype": "text/x-python",
   "name": "python",
   "nbconvert_exporter": "python",
   "pygments_lexer": "ipython3",
   "version": "3.10.15"
  }
 },
 "nbformat": 4,
 "nbformat_minor": 2
}
