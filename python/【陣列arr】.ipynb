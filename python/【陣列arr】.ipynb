{
 "cells": [
  {
   "cell_type": "markdown",
   "metadata": {},
   "source": [
    "## 1 list的特性\n",
    "- 可以儲存多個資料\n",
    "- 屬於序列結構\n",
    "- 值是可變的(Modifiable)"
   ]
  },
  {
   "cell_type": "markdown",
   "metadata": {},
   "source": [
    "### 1.1 基本輸出"
   ]
  },
  {
   "cell_type": "code",
   "execution_count": 1,
   "metadata": {},
   "outputs": [
    {
     "name": "stdout",
     "output_type": "stream",
     "text": [
      "['助教', '丁丁', '迪西', '拉拉', '小波']\n"
     ]
    }
   ],
   "source": [
    "arr = [\"助教\", \"丁丁\",\"迪西\", \"拉拉\", \"小波\"]\n",
    "print(arr)"
   ]
  },
  {
   "cell_type": "markdown",
   "metadata": {},
   "source": [
    "### 1.2 list + 索引與切片"
   ]
  },
  {
   "cell_type": "code",
   "execution_count": 3,
   "metadata": {},
   "outputs": [
    {
     "name": "stdout",
     "output_type": "stream",
     "text": [
      "助教\n",
      "丁丁\n",
      "小波\n"
     ]
    }
   ],
   "source": [
    "arr = [\"助教\", \"丁丁\",\"迪西\", \"拉拉\", \"小波\"]\n",
    "\n",
    "# 索引\n",
    "print(arr[0])\n",
    "print(arr[1])\n",
    "print(arr[-1])"
   ]
  },
  {
   "cell_type": "code",
   "execution_count": 4,
   "metadata": {},
   "outputs": [
    {
     "name": "stdout",
     "output_type": "stream",
     "text": [
      "['助教', '丁丁', '迪西']\n",
      "['丁丁', '迪西', '拉拉']\n"
     ]
    }
   ],
   "source": [
    "# 切片\n",
    "print(arr[0:3])\n",
    "print(arr[1:4])"
   ]
  },
  {
   "cell_type": "markdown",
   "metadata": {},
   "source": [
    "### 1.3 list + 相加 & 相乘"
   ]
  },
  {
   "cell_type": "code",
   "execution_count": 5,
   "metadata": {},
   "outputs": [
    {
     "data": {
      "text/plain": [
       "['拉拉', '小波', '助教', '丁丁']"
      ]
     },
     "execution_count": 5,
     "metadata": {},
     "output_type": "execute_result"
    }
   ],
   "source": [
    "arr1 = [\"拉拉\", \"小波\"]\n",
    "arr2 = [\"助教\", \"丁丁\"]\n",
    "arr1+arr2"
   ]
  },
  {
   "cell_type": "code",
   "execution_count": 6,
   "metadata": {},
   "outputs": [
    {
     "data": {
      "text/plain": [
       "['拉拉', '小波', '拉拉', '小波', '拉拉', '小波']"
      ]
     },
     "execution_count": 6,
     "metadata": {},
     "output_type": "execute_result"
    }
   ],
   "source": [
    "arr1 = [\"拉拉\", \"小波\"]\n",
    "arr1*3"
   ]
  },
  {
   "cell_type": "code",
   "execution_count": 10,
   "metadata": {},
   "outputs": [
    {
     "name": "stdout",
     "output_type": "stream",
     "text": [
      "[1, 3, 5, 1, 3, 5, 1, 3, 5, 1, 3, 5, 1, 3, 5]\n",
      "5 15 25 "
     ]
    }
   ],
   "source": [
    "# 如果是【數字list】碰到【*】\n",
    "nums = [1, 3, 5]\n",
    "print(nums * 5) \n",
    "\n",
    "for i in nums:\n",
    "    print(i*5, end=\" \")"
   ]
  },
  {
   "cell_type": "markdown",
   "metadata": {},
   "source": [
    "### 1.4 判斷串列為空 & 把陣列清空"
   ]
  },
  {
   "cell_type": "code",
   "execution_count": 20,
   "metadata": {},
   "outputs": [
    {
     "data": {
      "text/plain": [
       "5"
      ]
     },
     "execution_count": 20,
     "metadata": {},
     "output_type": "execute_result"
    }
   ],
   "source": [
    "arr = [\"助教\", \"丁丁\",\"迪西\", \"拉拉\", \"小波\"] \n",
    "len(arr)"
   ]
  },
  {
   "cell_type": "code",
   "execution_count": 19,
   "metadata": {},
   "outputs": [
    {
     "name": "stdout",
     "output_type": "stream",
     "text": [
      "[]\n",
      "nums元素不存在\n"
     ]
    }
   ],
   "source": [
    "# if len(arr) != 0:\n",
    "#     arr.clear()\n",
    "\n",
    "print(arr)\n",
    "\n",
    "if len(arr) != 0:\n",
    "    print(\"nums元素存在\")\n",
    "else:\n",
    "    print(\"nums元素不存在\")"
   ]
  }
 ],
 "metadata": {
  "kernelspec": {
   "display_name": "base",
   "language": "python",
   "name": "python3"
  },
  "language_info": {
   "codemirror_mode": {
    "name": "ipython",
    "version": 3
   },
   "file_extension": ".py",
   "mimetype": "text/x-python",
   "name": "python",
   "nbconvert_exporter": "python",
   "pygments_lexer": "ipython3",
   "version": "3.12.4"
  }
 },
 "nbformat": 4,
 "nbformat_minor": 2
}
