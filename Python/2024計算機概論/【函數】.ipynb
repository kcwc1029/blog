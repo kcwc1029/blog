{
 "cells": [
  {
   "cell_type": "markdown",
   "metadata": {},
   "source": [
    "## 基本架構\n",
    "- 當我們發現在我們的程式碼中，有許多相似的片段，便可以使用函式將程式進行簡化。具有以下優點：\n",
    "    - Reuseable\n",
    "    - Readable\n",
    "    - Easy to debug"
   ]
  },
  {
   "cell_type": "markdown",
   "metadata": {},
   "source": [
    "## 基本架構"
   ]
  },
  {
   "cell_type": "code",
   "execution_count": 33,
   "metadata": {},
   "outputs": [
    {
     "name": "stdout",
     "output_type": "stream",
     "text": [
      "hello, how are you.\n"
     ]
    }
   ],
   "source": [
    "# 定義\n",
    "def sayHi(user_input):\n",
    "    \"\"\"這邊寫關於函數的說明\n",
    "    Args:\n",
    "        user_input(int):傳入的參數解釋\n",
    "        test_input(int):助教的綽號叫微微\n",
    "        test_input2(string):所以助教點飲料都點微糖微冰\n",
    "    Returns:\n",
    "        None:這個函數不返回值，只是輸出一句話\n",
    "    \"\"\"\n",
    "    print(\"我吃完了\")\n",
    "\n",
    "\n",
    "# 呼叫\n",
    "sayHi(10)  # 隨便傳入一個值進去\n"
   ]
  },
  {
   "cell_type": "markdown",
   "metadata": {},
   "source": [
    "## 沒有參數的函數"
   ]
  },
  {
   "cell_type": "code",
   "execution_count": 38,
   "metadata": {},
   "outputs": [
    {
     "name": "stdout",
     "output_type": "stream",
     "text": [
      "姊姊你會不會畫哈基咪呀\n"
     ]
    }
   ],
   "source": [
    "def greeting():\n",
    "    \"\"\"函數設計\"\"\"\n",
    "    print(\"姊姊你會不會畫哈基咪呀\")\n",
    "\n",
    "greeting() # 姊姊你會不會畫哈基咪呀"
   ]
  },
  {
   "cell_type": "markdown",
   "metadata": {},
   "source": [
    "## 包含參數（parameter）的函數\n",
    "其中給引數的方式有兩種：\n",
    "- positiotnal arguments: add(4, 5)\n",
    "- keyword arguments: add(y=5, x=4)"
   ]
  },
  {
   "cell_type": "markdown",
   "metadata": {},
   "source": [
    "## 函數回傳\n",
    "- 一個函數只能回傳一個東西\n",
    "- 沒有回傳->none"
   ]
  },
  {
   "cell_type": "code",
   "execution_count": 39,
   "metadata": {},
   "outputs": [
    {
     "name": "stdout",
     "output_type": "stream",
     "text": [
      "前女友XXX 你難過一定要跟我說，讓我知道妳也有今天。\n",
      "None\n",
      "<class 'NoneType'>\n"
     ]
    }
   ],
   "source": [
    "def greeting(name):\n",
    "    print(name, \"你難過一定要跟我說，讓我知道妳也有今天。\")\n",
    "    \n",
    "return_value = greeting('前女友XXX') # 前女友XXX 你難過一定要跟我說，讓我知道妳也有今天。\n",
    "print(return_value) # None\n",
    "print(type(return_value)) # <class 'NoneType'>"
   ]
  },
  {
   "cell_type": "markdown",
   "metadata": {},
   "source": [
    "## first-class objects\n",
    "- 詳細內容: https://ithelp.ithome.com.tw/articles/10222472\n",
    "- 白話就是，函數可以把它視為一個物件"
   ]
  },
  {
   "cell_type": "markdown",
   "metadata": {},
   "source": [
    "### 將函數賦值給變數\n",
    "- 你可以將一個函數賦值給變數，使變數成為該函數的引用。"
   ]
  },
  {
   "cell_type": "code",
   "execution_count": 41,
   "metadata": {},
   "outputs": [
    {
     "name": "stdout",
     "output_type": "stream",
     "text": [
      "ex-girlfriend：你難過一定要跟我說，讓我知道妳也有今天。\n"
     ]
    }
   ],
   "source": [
    "def f(name):\n",
    "    return f\"{name}：你難過一定要跟我說，讓我知道妳也有今天。\"\n",
    "\n",
    "my_function = f # 參數傳給變數\n",
    "print(my_function(\"ex-girlfriend\"))  "
   ]
  },
  {
   "cell_type": "markdown",
   "metadata": {},
   "source": [
    "### 將函數作為參數傳遞\n",
    "- 你可以將一個函數作為另一個函數的參數傳遞。"
   ]
  },
  {
   "cell_type": "code",
   "execution_count": 6,
   "metadata": {},
   "outputs": [
    {
     "name": "stdout",
     "output_type": "stream",
     "text": [
      "6\n"
     ]
    }
   ],
   "source": [
    "def apply(func, value):\n",
    "    return func(value) # len(\"python\")\n",
    "\n",
    "result = apply(len, \"Python\")\n",
    "print(result)  "
   ]
  },
  {
   "cell_type": "markdown",
   "metadata": {},
   "source": [
    "### 將函數返回為值\n",
    "- 你可以從一個函數中返回另一個函數。"
   ]
  },
  {
   "cell_type": "code",
   "execution_count": 42,
   "metadata": {},
   "outputs": [
    {
     "name": "stdout",
     "output_type": "stream",
     "text": [
      "2\n",
      "2\n",
      "5\n",
      "25\n"
     ]
    }
   ],
   "source": [
    "def f1(factor):\n",
    "    print(factor) # 2\n",
    "    # 裡面函數\n",
    "    def f2(x):\n",
    "        print(factor) # 2\n",
    "        print(x) # 5\n",
    "        return x ** factor\n",
    "    return f2\n",
    "\n",
    "double = f1(2)\n",
    "print(double(5))  "
   ]
  },
  {
   "cell_type": "markdown",
   "metadata": {},
   "source": [
    "### 將函數儲存在資料結構中\n",
    "- 將函數存儲在列表、字典等資料結構中。"
   ]
  },
  {
   "cell_type": "code",
   "execution_count": 43,
   "metadata": {},
   "outputs": [
    {
     "name": "stdout",
     "output_type": "stream",
     "text": [
      "5\n"
     ]
    }
   ],
   "source": [
    "functions = [len, str.upper, max]\n",
    "result = functions[0](\"hello\")\n",
    "print(result)  "
   ]
  },
  {
   "cell_type": "markdown",
   "metadata": {},
   "source": [
    "### funtion are object!!!\n",
    "- 在函數（funtion）中，可以互相被取代掉\n",
    "- 這也是變數/函數取名要好好取的原因"
   ]
  },
  {
   "cell_type": "code",
   "execution_count": 44,
   "metadata": {},
   "outputs": [
    {
     "data": {
      "text/plain": [
       "-1"
      ]
     },
     "execution_count": 44,
     "metadata": {},
     "output_type": "execute_result"
    }
   ],
   "source": [
    "# 指派（assign）一個函數到另一個函數\n",
    "def add(a, b): return a+b\n",
    "def sub(a, b): return a-b\n",
    "add = sub\n",
    "\n",
    "add(3, 4) # -1"
   ]
  },
  {
   "cell_type": "markdown",
   "metadata": {},
   "source": [
    "## copy by value/reference(很重要)\n",
    "- copy by value/reference在C中的指示：https://www.youtube.com/watch?v=HEiPxjVR8CU\n",
    "- Python 在函數中變量賦值的機制是混合的。\n",
    "    -   對於不可變類型(如整數、浮點數、字符串等)使用 pass by value（函數中修改參數的值不會影響到函數外部的變量。）\n",
    "    -   對於可變類型(如列表、字典等)使用 pass by reference（函數中修改參數的元素會影響到函數外部的變量。）"
   ]
  },
  {
   "cell_type": "code",
   "execution_count": 12,
   "metadata": {},
   "outputs": [
    {
     "name": "stdout",
     "output_type": "stream",
     "text": [
      "[100, 2, 3, 4]\n"
     ]
    }
   ],
   "source": [
    "# NOTE: pass by reference\n",
    "def change(a):\n",
    "  a[0] = 100\n",
    "\n",
    "a = [1,2,3,4]\n",
    "change(a)\n",
    "\n",
    "print(a) # [100, 2, 3, 4]"
   ]
  },
  {
   "cell_type": "code",
   "execution_count": 13,
   "metadata": {},
   "outputs": [
    {
     "name": "stdout",
     "output_type": "stream",
     "text": [
      "2\n"
     ]
    }
   ],
   "source": [
    "# NOTE: pass by value\n",
    "def change(a):\n",
    "  a = 100\n",
    "\n",
    "a = 2\n",
    "change(a)\n",
    "print(a) # 2"
   ]
  },
  {
   "cell_type": "markdown",
   "metadata": {},
   "source": [
    "## 匿名函數（lambda）\n",
    "- 匿名函式不需要定義名稱，一般函式需定義名稱。\n",
    "- 匿名函式只能有一行運算式，一般函式可以有多行運算式。\n",
    "- 匿名函式執行完成後自動回傳結果，一般函式加上 return 關鍵字才能回傳結果。"
   ]
  },
  {
   "cell_type": "code",
   "execution_count": 45,
   "metadata": {},
   "outputs": [
    {
     "name": "stdout",
     "output_type": "stream",
     "text": [
      "25\n"
     ]
    }
   ],
   "source": [
    "ans = (lambda x: x**2)(5)\n",
    "print(ans) # 25"
   ]
  },
  {
   "cell_type": "code",
   "execution_count": 46,
   "metadata": {},
   "outputs": [
    {
     "name": "stdout",
     "output_type": "stream",
     "text": [
      "(45, -15)\n"
     ]
    }
   ],
   "source": [
    "ans = (lambda x, y: (x+y, x-y))(15, 30)\n",
    "print(ans) # (45, -15)"
   ]
  },
  {
   "cell_type": "code",
   "execution_count": 21,
   "metadata": {},
   "outputs": [
    {
     "name": "stdout",
     "output_type": "stream",
     "text": [
      "[0, 1, 2, 3, 4]\n",
      "[0, 1, 2, 3, 4]\n"
     ]
    }
   ],
   "source": [
    "# 一般寫法\n",
    "def x(n):\n",
    "    a = list(range(n))\n",
    "    return a\n",
    "\n",
    "# lambda\n",
    "y = lambda n: [i for i in range(n)]   # 計算後回傳串列結果\n",
    "print(x(5))    # [0, 1, 2, 3, 4]\n",
    "print(y(5))    # [0, 1, 2, 3, 4]"
   ]
  },
  {
   "cell_type": "code",
   "execution_count": 22,
   "metadata": {},
   "outputs": [
    {
     "name": "stdout",
     "output_type": "stream",
     "text": [
      "True\n",
      "True\n"
     ]
    }
   ],
   "source": [
    "# 搭配 if 判斷式\n",
    "def y(n):\n",
    "    if n<10: return True\n",
    "    else:return False\n",
    "    \n",
    "x = lambda n: True if n<10 else False   # 判斷是否小於 10，回傳 True 或 False\n",
    "print(x(5))   # True\n",
    "print(y(5))   # True"
   ]
  },
  {
   "cell_type": "markdown",
   "metadata": {},
   "source": [
    "- 在list章節中，有提到關於list相關函數(map, filter)"
   ]
  },
  {
   "cell_type": "code",
   "execution_count": 23,
   "metadata": {},
   "outputs": [
    {
     "name": "stdout",
     "output_type": "stream",
     "text": [
      "[1, 4, 9, 16, 25, 36, 49, 64, 81]\n"
     ]
    }
   ],
   "source": [
    "# 搭配 map 方法\n",
    "a = [1,2,3,4,5,6,7,8,9]\n",
    "b = map(lambda x: x*x, a)\n",
    "print(list(b)) # [1, 4, 9, 16, 25, 36, 49, 64, 81]"
   ]
  },
  {
   "cell_type": "code",
   "execution_count": null,
   "metadata": {},
   "outputs": [],
   "source": [
    "# 搭配 filter 方法\n",
    "a = [1,2,3,4,5,6,7,8,9]\n",
    "b = filter(lambda x: x>5, a)\n",
    "print(list(b)) # [6, 7, 8, 9]"
   ]
  },
  {
   "cell_type": "code",
   "execution_count": null,
   "metadata": {},
   "outputs": [],
   "source": [
    "# 搭配 sorted 方法 \n",
    "a = [[1,2],[4,3],[5,1],[9,2],[3,7]]\n",
    "b = sorted(a, key = lambda x: x[1])\n",
    "print(list(b)) # [[5, 1], [1, 2], [9, 2], [4, 3], [3, 7]]"
   ]
  },
  {
   "cell_type": "markdown",
   "metadata": {},
   "source": [
    "## 給定任意參數（arbitrary number of arguments）\n",
    "- 語法：`def f1(*args, **kwargs):`\n",
    "-   \\*args: 包成 tuple\n",
    "-   \\*\\*kwargs: 包成字典\n",
    "\n",
    "* 從max()去想如何做出任意參數的函數"
   ]
  },
  {
   "cell_type": "code",
   "execution_count": null,
   "metadata": {},
   "outputs": [],
   "source": [
    "ans = max(1,2,3)\n",
    "print(ans) # 3"
   ]
  },
  {
   "cell_type": "markdown",
   "metadata": {},
   "source": [
    "- 按照之前所說的，參數他是一個一個去對應的，但..要怎麼知道我一次傳的參數有幾個?\n",
    "- 所以，其實`max()`他內部大概是長這樣"
   ]
  },
  {
   "cell_type": "code",
   "execution_count": 15,
   "metadata": {},
   "outputs": [
    {
     "name": "stdout",
     "output_type": "stream",
     "text": [
      "3\n"
     ]
    }
   ],
   "source": [
    "def aa(*args):\n",
    "    return max(args) # 在tuple裡面找max\n",
    "\n",
    "print(aa(1,2,3))"
   ]
  },
  {
   "cell_type": "markdown",
   "metadata": {},
   "source": [
    "- 以下為一些相關用法"
   ]
  },
  {
   "cell_type": "code",
   "execution_count": 16,
   "metadata": {},
   "outputs": [
    {
     "data": {
      "text/plain": [
       "15"
      ]
     },
     "execution_count": 16,
     "metadata": {},
     "output_type": "execute_result"
    }
   ],
   "source": [
    "# 示範*args:\n",
    "def sum(*args):\n",
    "  ans = 0\n",
    "  for i in range(len(args)): ans += args[i]\n",
    "  return ans\n",
    "\n",
    "sum(1,2,3,4,5) # 15"
   ]
  },
  {
   "cell_type": "code",
   "execution_count": 17,
   "metadata": {},
   "outputs": [
    {
     "name": "stdout",
     "output_type": "stream",
     "text": [
      "TA is now 23 years old.\n"
     ]
    }
   ],
   "source": [
    "# 示範*args:\n",
    "def f(**kwargs):\n",
    "  print(f\"{kwargs['name']} is now {kwargs['age']} years old.\")\n",
    "\n",
    "f(name=\"TA\", age=23, address=\"tainan\") # TA is now 23 years old."
   ]
  },
  {
   "cell_type": "code",
   "execution_count": 18,
   "metadata": {},
   "outputs": [
    {
     "name": "stdout",
     "output_type": "stream",
     "text": [
      "I would like to eat 23 eggs\n"
     ]
    }
   ],
   "source": [
    "# 合併使用\n",
    "def f1(*args, **kwargs):\n",
    "  print(\"I would like to eat {} {}\".format(args[2], kwargs['food']))\n",
    "\n",
    "f1(14, 17, 23, food=\"eggs\") # I would like to eat 23 eggs"
   ]
  },
  {
   "cell_type": "markdown",
   "metadata": {},
   "source": [
    "## scope 範圍（python 找變數的方式）\n",
    "- LEGB rules:\n",
    "    -   Local (L): 首先在當前函數/方法中尋找變量\n",
    "    -   Enclosing (E): 如果在當前函數/方法中沒有找到,就往外一層的封閉函數中尋找\n",
    "    -   Global (G): 如果在當前函數/方法和其封閉函數中都沒有找到,就去全局命名空間中尋找\n",
    "    -   Built-in (B): 如果以上三個範圍都沒有找到,就去內置命名空間中尋找"
   ]
  },
  {
   "cell_type": "code",
   "execution_count": 47,
   "metadata": {},
   "outputs": [
    {
     "name": "stdout",
     "output_type": "stream",
     "text": [
      "hello, my name is 利姆路·坦派斯特\n"
     ]
    }
   ],
   "source": [
    "def greet():\n",
    "  name = \"利姆路·坦派斯特\"\n",
    "  def hello():\n",
    "    print(f\"hello, my name is {name}\")\n",
    "  hello()\n",
    "\n",
    "\n",
    "name = \"蜜莉姆·拿渥\"\n",
    "greet() # hello, my name is 利姆路·坦派斯特"
   ]
  },
  {
   "cell_type": "markdown",
   "metadata": {},
   "source": [
    "- 那如果是這樣寫，name是誰？"
   ]
  },
  {
   "cell_type": "code",
   "execution_count": 48,
   "metadata": {},
   "outputs": [
    {
     "name": "stdout",
     "output_type": "stream",
     "text": [
      "hello, my name is 蜜莉姆·拿渥\n"
     ]
    }
   ],
   "source": [
    "def greet():\n",
    "\tname = \"利姆路·坦派斯特\"\n",
    "\thello()\n",
    "\n",
    "def hello():\n",
    "  \tprint(f\"hello, my name is {name}\")\n",
    "\n",
    "name = \"蜜莉姆·拿渥\"\n",
    "greet() # hello, my name is 蜜莉姆·拿渥"
   ]
  },
  {
   "cell_type": "markdown",
   "metadata": {},
   "source": [
    "- 以下示範針對LEGB rules的bug"
   ]
  },
  {
   "cell_type": "code",
   "execution_count": 54,
   "metadata": {},
   "outputs": [
    {
     "ename": "UnboundLocalError",
     "evalue": "cannot access local variable 'a' where it is not associated with a value",
     "output_type": "error",
     "traceback": [
      "\u001b[1;31m---------------------------------------------------------------------------\u001b[0m",
      "\u001b[1;31mUnboundLocalError\u001b[0m                         Traceback (most recent call last)",
      "Cell \u001b[1;32mIn[54], line 13\u001b[0m\n\u001b[0;32m      9\u001b[0m   a \u001b[38;5;241m=\u001b[39m \u001b[38;5;241m2\u001b[39m\n\u001b[0;32m     12\u001b[0m a \u001b[38;5;241m=\u001b[39m \u001b[38;5;124m\"\u001b[39m\u001b[38;5;124mhello\u001b[39m\u001b[38;5;124m\"\u001b[39m\n\u001b[1;32m---> 13\u001b[0m f()\n",
      "Cell \u001b[1;32mIn[54], line 8\u001b[0m, in \u001b[0;36mf\u001b[1;34m()\u001b[0m\n\u001b[0;32m      7\u001b[0m \u001b[38;5;28;01mdef\u001b[39;00m \u001b[38;5;21mf\u001b[39m():\n\u001b[1;32m----> 8\u001b[0m   \u001b[38;5;28mprint\u001b[39m(a)\n\u001b[0;32m      9\u001b[0m   a \u001b[38;5;241m=\u001b[39m \u001b[38;5;241m2\u001b[39m\n",
      "\u001b[1;31mUnboundLocalError\u001b[0m: cannot access local variable 'a' where it is not associated with a value"
     ]
    }
   ],
   "source": [
    "\"\"\"\n",
    "這一段程式會報錯“ local variable 'a' referenced before assignment”\n",
    "因為在f()裡面並沒有a這個東西（你會說，依照python LEGB規則 應該可以找到呀）\n",
    "但是當python在區域變數找不到，就會直接拋出UnboundLocalError\n",
    "\"\"\"\n",
    "\n",
    "def f():\n",
    "  print(a)\n",
    "  a = 2\n",
    "  \n",
    "\n",
    "a = \"hello\"\n",
    "f() # cannot access local variable 'a' where it is not associated with a value"
   ]
  },
  {
   "cell_type": "code",
   "execution_count": 55,
   "metadata": {},
   "outputs": [
    {
     "name": "stdout",
     "output_type": "stream",
     "text": [
      "hello\n"
     ]
    }
   ],
   "source": [
    "\"\"\"\n",
    "以下為修正方式，使用global\n",
    "\"\"\"\n",
    "def f():\n",
    "  global a\n",
    "  print(a)\n",
    "  a = 2\n",
    "\n",
    "a = \"hello\"\n",
    "f()"
   ]
  },
  {
   "cell_type": "markdown",
   "metadata": {},
   "source": [
    "## 裝飾器 decorater\n",
    "- 很多時候，我們會遇到以下情況："
   ]
  },
  {
   "cell_type": "code",
   "execution_count": null,
   "metadata": {},
   "outputs": [],
   "source": [
    "def new_decorater(original_fun):\n",
    "  def inner_fun():\n",
    "    print(\"here is some code before the original funtion...\")\n",
    "    original_fun()\n",
    "    print(\"here is some code after the original funtion...\")\n",
    "  return inner_fun()\n",
    "\n",
    "def need_decorater():\n",
    "  print(\"i'm a funtion that needs decorater\")\n",
    "\n",
    "\n",
    "f = new_decorater(need_decorater)\n",
    "f()\n",
    "# here is some code before the original funtion...\n",
    "# i'm a funtion that needs decorater\n",
    "# here is some code after the original funtion..."
   ]
  },
  {
   "cell_type": "markdown",
   "metadata": {},
   "source": [
    "- 他有點像是，在程式與程式中間，突然需要插入某些東西，但這樣的寫法，其實不易閱讀，因此才出現裝飾器的用法"
   ]
  },
  {
   "cell_type": "code",
   "execution_count": 56,
   "metadata": {},
   "outputs": [
    {
     "name": "stdout",
     "output_type": "stream",
     "text": [
      "here is some code before the original funtion...\n",
      "i'm a funtion that needs decorater\n",
      "here is some code after the original funtion...\n"
     ]
    }
   ],
   "source": [
    "# 使用裝飾器\n",
    "def new_decorater(original_fun):\n",
    "  def inner_f():\n",
    "    print(\"here is some code before the original funtion...\")\n",
    "    original_fun()\n",
    "    print(\"here is some code after the original funtion...\")\n",
    "  return inner_f()\n",
    "\n",
    "\n",
    "@new_decorater\n",
    "def need_decorater():\n",
    "  print(\"i'm a funtion that needs decorater\")\n",
    "\n",
    "need_decorater # 執行\n",
    "# here is some code before the original funtion...\n",
    "# i'm a funtion that needs decorater\n",
    "# here is some code after the original funtion..."
   ]
  },
  {
   "cell_type": "markdown",
   "metadata": {},
   "source": [
    "## Comprehension & generator\n",
    "\n",
    "- 參考文章：https://steam.oxxostudio.tw/category/python/basic/generator.html"
   ]
  },
  {
   "cell_type": "markdown",
   "metadata": {},
   "source": [
    "###  Comprehension\n",
    "- 在 Python 中，generator和 comprehension是兩種用於創建叠代對象的強大而靈活的工具。\n",
    "    -   comprehension 幫助 python 從一個以定義的結構，去創造另一個結構\n",
    "    -   comprehension 支持 list, dict, set 這三種結構。\n",
    "    -   Tuple 是不可變的數據結構,一旦創建就無法修改。而 list 和 set 是可變的,因此更適合使用 comprehension 的形式來動態地建立和修改。"
   ]
  },
  {
   "cell_type": "code",
   "execution_count": null,
   "metadata": {},
   "outputs": [],
   "source": [
    "# NOTE: comprehension\n",
    "\n",
    "# 原本的程式碼：\n",
    "arr = [1,2,3,4]\n",
    "squared_arr =[]\n",
    "for i in arr: squared_arr.append(i ** 2)\n",
    "\n",
    "# 使用comprehension進行優化：\n",
    "squared_arr = [i ** 2 for i in arr]\n",
    "print(squared_arr) # [1, 4, 9, 16]\n",
    "\n",
    "\n",
    "# 將comprehension應用在dict\n",
    "arr = [1,2,3,4]\n",
    "dict_squared_arr = {i: i ** 2 for i in arr}\n",
    "print(dict_squared_arr) # {1: 1, 2: 4, 3: 9, 4: 16\n",
    "\n",
    "# 將comprehension應用在set\n",
    "arr = [1,2,3,4]\n",
    "set_squared_arr = { i ** 2 for i in arr}\n",
    "print(set_squared_arr) # {16, 1, 4, 9}"
   ]
  },
  {
   "cell_type": "markdown",
   "metadata": {},
   "source": [
    "-   而 generator 他是使用()代替[]（小括弧原本代表的是 tuple，但是我們可以知道 tuple 他本來就沒有 comprehension）， comprehension 他會返回一個 new list，而 generator 他是返回一個 generator object，這個是比較節省記憶體空間的。\n",
    "-   generator是一種特殊類型的叠代器，它可以通過函數中的 yield 語句來創建。yield 使函數返回一個值，並在下一次調用時恢覆執行狀態，從而支持生成一個序列的值。生成器遵循叠代協議，可以逐個生成值，而不是一次性生成整個序列，因此在處理大量數據時更加高效。\n",
    "- generator是記錄「產生值的方法」，而不是記錄值。\n",
    "- 使用產生器中「產生的值只能取用一次」，無法重新啟動或重新取得 ( 因為不會紀錄 )。"
   ]
  },
  {
   "cell_type": "code",
   "execution_count": 28,
   "metadata": {},
   "outputs": [
    {
     "name": "stdout",
     "output_type": "stream",
     "text": [
      "[0, 1, 2, 3, 4, 5, 6, 7, 8, 9]\n",
      "<generator object <genexpr> at 0x00000232D937BDC0>\n"
     ]
    }
   ],
   "source": [
    "a = [i for i in range(10)]  # Comprehension\n",
    "b = (i for i in range(10))  # generator\n",
    "print(a)   # [0, 1, 2, 3, 4, 5, 6, 7, 8, 9]\n",
    "print(b)   # <generator object <genexpr> at 0x7fbb6facba50>"
   ]
  },
  {
   "cell_type": "code",
   "execution_count": 29,
   "metadata": {},
   "outputs": [
    {
     "name": "stdout",
     "output_type": "stream",
     "text": [
      "0\n",
      "1\n",
      "4\n",
      "9\n",
      "16\n",
      "25\n",
      "36\n",
      "49\n",
      "64\n",
      "81\n"
     ]
    },
    {
     "ename": "StopIteration",
     "evalue": "",
     "output_type": "error",
     "traceback": [
      "\u001b[1;31m---------------------------------------------------------------------------\u001b[0m",
      "\u001b[1;31mStopIteration\u001b[0m                             Traceback (most recent call last)",
      "Cell \u001b[1;32mIn[29], line 13\u001b[0m\n\u001b[0;32m     11\u001b[0m \u001b[38;5;28mprint\u001b[39m(\u001b[38;5;28mnext\u001b[39m(a))  \u001b[38;5;66;03m# 64\u001b[39;00m\n\u001b[0;32m     12\u001b[0m \u001b[38;5;28mprint\u001b[39m(\u001b[38;5;28mnext\u001b[39m(a))  \u001b[38;5;66;03m# 81\u001b[39;00m\n\u001b[1;32m---> 13\u001b[0m \u001b[38;5;28mprint\u001b[39m(\u001b[38;5;28mnext\u001b[39m(a))\n",
      "\u001b[1;31mStopIteration\u001b[0m: "
     ]
    }
   ],
   "source": [
    "# 此外，也可使用「next」的方法依序取值，但如果最後取不到值就會發生錯誤。\n",
    "a = (i**2 for i in range(10))  # 串列生成式\n",
    "print(next(a))  # 0\n",
    "print(next(a))  # 1\n",
    "print(next(a))  # 4\n",
    "print(next(a))  # 9\n",
    "print(next(a))  # 16\n",
    "print(next(a))  # 25\n",
    "print(next(a))  # 36\n",
    "print(next(a))  # 49\n",
    "print(next(a))  # 64\n",
    "print(next(a))  # 81\n",
    "print(next(a))  # 發生錯誤，因為取不到值"
   ]
  },
  {
   "cell_type": "markdown",
   "metadata": {},
   "source": [
    "## yield 陳述式\n",
    "- 如果一個函式裡，包含 yield 陳述式，那麼這個函式就會變成一個 generator "
   ]
  },
  {
   "cell_type": "code",
   "execution_count": 30,
   "metadata": {},
   "outputs": [
    {
     "name": "stdout",
     "output_type": "stream",
     "text": [
      "2\n",
      "4\n",
      "16\n"
     ]
    },
    {
     "data": {
      "text/plain": [
       "<generator object f2 at 0x00000232DA2B2670>"
      ]
     },
     "execution_count": 30,
     "metadata": {},
     "output_type": "execute_result"
    }
   ],
   "source": [
    "def f1(max):\n",
    "    n = 0\n",
    "    a = 2\n",
    "    while n<max:\n",
    "        print(a) # 2, 4, 16\n",
    "        a = a ** 2\n",
    "        n = n + 1\n",
    "\n",
    "def f2(max):\n",
    "    n = 0\n",
    "    a = 2\n",
    "    while n<max:\n",
    "        yield(a)     # <generator object f2 at 0x000001A7F3384EE0>\n",
    "        a = a ** 2\n",
    "        n = n + 1\n",
    "\n",
    "f1(3)\n",
    "f2(3)"
   ]
  },
  {
   "cell_type": "markdown",
   "metadata": {},
   "source": [
    "- 如果使用 yield 將其變成產生式，就需要使用 next 或是迴圈方式調用，每次呼叫時才會逐步印出 1、2、3"
   ]
  },
  {
   "cell_type": "code",
   "execution_count": null,
   "metadata": {},
   "outputs": [],
   "source": [
    "def f():\n",
    "    yield(1)       # 使用 yield\n",
    "    yield(2)\n",
    "    yield(3)\n",
    "g = f()          # 賦值給變數 g\n",
    "print(next(g))   # 1\n",
    "print(next(g))   # 2\n",
    "print(next(g))   # 3"
   ]
  },
  {
   "cell_type": "markdown",
   "metadata": {},
   "source": [
    "- 為什麼上方的程式碼要使用「g = f()」呢？因為調用 generator 函式會建立一個 generator 物件\n",
    "- 多次調用generator 函式會創建多個「相互獨立」的 generator，如果將程式碼改成下面的模樣"
   ]
  },
  {
   "cell_type": "code",
   "execution_count": 31,
   "metadata": {},
   "outputs": [
    {
     "name": "stdout",
     "output_type": "stream",
     "text": [
      "1\n",
      "1\n",
      "1\n"
     ]
    }
   ],
   "source": [
    "def f():\n",
    "    yield(1)\n",
    "    yield(2)\n",
    "    yield(3)\n",
    "print(next(f()))   # 1\n",
    "print(next(f()))   # 1\n",
    "print(next(f()))   # 1\n",
    "# 因為 generator 函式互相獨立，結果就只會印出 1。"
   ]
  },
  {
   "cell_type": "markdown",
   "metadata": {},
   "source": [
    "## iteration, iterable, iterator\n",
    "- 在 Python 中，\"iteration\"（叠代）、\"iterable\"（可叠代對象）和\"iterator\"（叠代器）是與叠代和循環相關的重要概念。\n",
    "- Iteration (叠代):\n",
    "    - 叠代是指重覆執行一組操作的過程，通常是遍歷一組元素或執行一段代碼塊。在 Python 中，for 循環是一種典型的叠代結構，它可以遍歷序列（如列表、元組、字符串等）中的每個元素。\n",
    "- Iterable (可叠代對象，可迭代的):\n",
    "    - 可叠代對象是指能夠被叠代的對象，也就是其中的元素可以逐個被訪問的對象。Python 中的可叠代對象包括列表、元組、字符串、字典、集合等。可以通過 iter() 函數將可叠代對象轉換為叠代器，從而支持叠代操作。\n",
    "- Iterator (叠代器):\n",
    "    - 叠代器是一種對象，它實現了 **iter**() 和 **next**() 方法。**iter**() 返回叠代器對象自身，而 **next**() 返回叠代序列中的下一個值。當沒有更多元素時，**next**() 應該引發 StopIteration 異常。叠代器可以用於表示懶加載的序列，一次生成一個元素，而不是一次性生成整個序列。"
   ]
  },
  {
   "cell_type": "code",
   "execution_count": 32,
   "metadata": {},
   "outputs": [
    {
     "name": "stdout",
     "output_type": "stream",
     "text": [
      "1\n",
      "2\n"
     ]
    }
   ],
   "source": [
    "# Iterable\n",
    "my_list = [1, 2, 3, 4, 5]\n",
    "\n",
    "# Iterator\n",
    "my_iter = iter(my_list)\n",
    "\n",
    "# Iterating using iterator\n",
    "print(next(my_iter))  # 輸出 1\n",
    "print(next(my_iter))  # 輸出 2"
   ]
  }
 ],
 "metadata": {
  "kernelspec": {
   "display_name": "base",
   "language": "python",
   "name": "python3"
  },
  "language_info": {
   "codemirror_mode": {
    "name": "ipython",
    "version": 3
   },
   "file_extension": ".py",
   "mimetype": "text/x-python",
   "name": "python",
   "nbconvert_exporter": "python",
   "pygments_lexer": "ipython3",
   "version": "3.12.4"
  }
 },
 "nbformat": 4,
 "nbformat_minor": 2
}
